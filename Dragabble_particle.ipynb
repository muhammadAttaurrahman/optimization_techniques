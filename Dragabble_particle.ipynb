{
 "cells": [
  {
   "cell_type": "code",
   "execution_count": 1,
   "id": "c3157359",
   "metadata": {},
   "outputs": [
    {
     "name": "stderr",
     "output_type": "stream",
     "text": [
      "C:\\Users\\DIP_LAB\\anaconda3\\envs\\RLearninng\\lib\\site-packages\\ipykernel_launcher.py:9: MatplotlibDeprecationWarning: Adding an axes using the same arguments as a previous axes currently reuses the earlier instance.  In a future version, a new instance will always be created and returned.  Meanwhile, this warning can be suppressed, and the future behavior ensured, by passing a unique label to each axes instance.\n",
      "  if __name__ == '__main__':\n"
     ]
    },
    {
     "data": {
      "image/png": "[encoded data removed]",
      "text/plain": [
       "<Figure size 288x288 with 1 Axes>"
      ]
     },
     "metadata": {
      "needs_background": "light"
     },
     "output_type": "display_data"
    }
   ],
   "source": [
    "# A PSO side file for a draaging object(Particle)\n",
    "\n",
    "import matplotlib.pyplot as plt \n",
    "import matplotlib.patches as patches #Pathes contains shapes(circle,box,rectangles etc)\n",
    "\n",
    "fig = plt.figure(figsize=(4,4))\n",
    "plt.xlim([-500,500])\n",
    "plt.ylim([-500, 500])\n",
    "ax= fig.add_subplot(111)"
   ]
  },
  {
   "cell_type": "code",
   "execution_count": 5,
   "id": "d9a064a6",
   "metadata": {},
   "outputs": [],
   "source": [
    "# Now creating a class for a drggable-particle\n",
    "\n",
    "class Draggable_particle:\n",
    "    lock = None\n",
    "    #Setting attrivutes for the Particle\n",
    "    def __init__(self,point):\n",
    "        self.point = point\n",
    "        self.press = None\n",
    "        self.background = None\n",
    "        self.ID = None \n",
    "    \n",
    "    # Now Setting getters and Seters\n",
    "    def setId(self, ID):\n",
    "        self.ID = ID\n",
    "    def GetId():\n",
    "        return self.ID\n",
    "    # Now we need to create event functions\n",
    "    def on_press(self,event):\n",
    "            # ON press we will lock the draggable Particle to itself gets the canvas and gets \n",
    "            # the axis itself and draw the canvas\n",
    "            if event.inaxes != self.point.axes: \n",
    "                return\n",
    "            if Draggable_particle.lock is not None: \n",
    "                return\n",
    "            contains, attrd = self.point.contains(event)\n",
    "            if not contains: \n",
    "                return\n",
    "            self.press = (self.point.center), event.xdata, event.ydata\n",
    "            Draggable_particle.lock = self\n",
    "            canvas = self.point.figure.canvas\n",
    "            axes = self.point.axes\n",
    "            self.point.set_animated(True)\n",
    "            canvas.draw()\n",
    "            self.background = canvas.copy_from_bbox(self.point.axes.bbox)\n",
    "            axes.draw_artist(self.point)\n",
    "            canvas.blit(axes.bbox)\n",
    "        \n",
    "         # X and Y positions are derived from on_press()\n",
    "        # We will use the diffrence between the press position and new poistion\n",
    "        # to update the target position on the canvas\n",
    "        # and then add or output this position to a CSV File\n",
    "        \n",
    "    def on_motion(self,event):\n",
    "            if Draggable_particle.lock is not self:\n",
    "                return\n",
    "            if event.inaxes != self.point.axes:\n",
    "                return\n",
    "            self.point.center, xpress, ypress = self.press\n",
    "            dx =event.xdata - xpressress\n",
    "            dy = event.ydata - ypress\n",
    "            self.point.center = (self.point.center[0]+dx, self.point.center[1]+dy)\n",
    "            #Printing and writtig target positions to a CSV File\n",
    "            print(str(self.point.center[0]) + ',' + str( self.point.center[1]), \n",
    "                  file = open('Target.csv', 'w'))\n",
    "            canvas = self.point.figure.canvas\n",
    "            axes = self.point.axes\n",
    "            canvas.restore_region(self.background)\n",
    "            axes.draw_artist(self.point)\n",
    "            canvas.blit(axes.bbox)\n",
    "        \n",
    "        # on release we will set background and press to None\n",
    "        # Also the point need not animation \n",
    "    def on_release(self, event):\n",
    "            'on release we reset the press data'\n",
    "            if Draggable_particle.lock is not self:\n",
    "                return\n",
    "            self.press = None\n",
    "            Draggable_particle.lock = None\n",
    "            self.point.set_animated(False)\n",
    "            self.background= None\n",
    "            self.point.figure.canvas.draw()\n",
    "        \n",
    "         \n",
    "    # Now creating function for mouse events\n",
    "    def connect(self):\n",
    "        'Connect to all events we need'\n",
    "        # When the mouse press event is triggered, self.on_press function is called\n",
    "        self.cidpress = self.point.figure.canvas.mpl_connect(\"button_press_event\",self.on_press)\n",
    "        # When the mouse press is released, self.on_releas function is called\n",
    "        self.cidrealease = self.point.figure.canvas.mpl_connect(\"button_release_event\",self.on_release)\n",
    "        # When the mouse is dragged or in during motion, self.on_motion function is called\n",
    "        self.cidmotion = self.point.figure.canvas.mpl_connect(\"motion_notify_event\",self.on_motion)\n",
    "        \n",
    "    def disconnect (self):\n",
    "            'To disconnect all stored connection ids'\n",
    "            self.point.figure.canvas.mpl_disconnect(self.cidpress)\n",
    "            self.point.figure.canvas.mpl_disconnect(self.cidrealease)\n",
    "            self.point.figure.canvas.mpl_disconnect(self.cidmotion)\n"
   ]
  },
  {
   "cell_type": "code",
   "execution_count": 6,
   "id": "8d9913c5",
   "metadata": {},
   "outputs": [
    {
     "name": "stderr",
     "output_type": "stream",
     "text": [
      "No handles with labels found to put in legend.\n"
     ]
    },
    {
     "data": {
      "image/png": "[encoded data removed]",
      "text/plain": [
       "<Figure size 432x288 with 1 Axes>"
      ]
     },
     "metadata": {
      "needs_background": "light"
     },
     "output_type": "display_data"
    }
   ],
   "source": [
    "# We can have a list of circles but here we required only one circl to draw at position 10,10 and \n",
    "# radius 20\n",
    "\n",
    "drs = []\n",
    "circles = [patches.Circle( (10, -10),    20,  label='Click to drag the Target', fc = 'k',color = 'k', alpha=1)]\n",
    "\n",
    "count = 0 \n",
    "\n",
    "for circle in circles:\n",
    "    ax.add_patch(circle)\n",
    "    dr_object = Draggable_particle(circle)\n",
    "    dr_object.setId(count)\n",
    "    dr_object.connect()\n",
    "    drs.append(dr_object)\n",
    "    count += 1\n",
    "\n",
    "plt.legend()\n",
    "plt.show()"
   ]
  },
  {
   "cell_type": "code",
   "execution_count": null,
   "id": "65fbeab3",
   "metadata": {},
   "outputs": [],
   "source": []
  },
  {
   "cell_type": "code",
   "execution_count": null,
   "id": "fea1fa8a",
   "metadata": {},
   "outputs": [],
   "source": []
  }
 ],
 "metadata": {
  "kernelspec": {
   "display_name": "Python 3 (ipykernel)",
   "language": "python",
   "name": "python3"
  },
  "language_info": {
   "codemirror_mode": {
    "name": "ipython",
    "version": 3
   },
   "file_extension": ".py",
   "mimetype": "text/x-python",
   "name": "python",
   "nbconvert_exporter": "python",
   "pygments_lexer": "ipython3",
   "version": "3.10.7"
  }
 },
 "nbformat": 4,
 "nbformat_minor": 5
}
